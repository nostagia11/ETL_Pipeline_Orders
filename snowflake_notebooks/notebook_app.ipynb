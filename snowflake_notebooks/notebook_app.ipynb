{
 "metadata": {
  "kernelspec": {
   "display_name": "Streamlit Notebook",
   "name": "streamlit"
  }
 },
 "nbformat_minor": 5,
 "nbformat": 4,
 "cells": [
  {
   "cell_type": "code",
   "id": "3775908f-ca36-4846-8f38-5adca39217f2",
   "metadata": {
    "language": "sql",
    "name": "cell1"
   },
   "source": "-- create accounts\nuse role accountadmin;\n\ncreate warehouse dbt_wh with warehouse_size='x-small';\ncreate database if not exists dbt_db;\ncreate role if not exists dbt_role;\n\nshow grants on warehouse dbt_wh;\n\ngrant role dbt_role to user nostagia11;\ngrant usage on warehouse dbt_wh to role dbt_role;\n\n\n\ngrant all on database dbt_db to role dbt_role;\n\nuse role dbt_role;\n\ncreate schema if not exists dbt_db.dbt_schema;\nGRANT USAGE ON SCHEMA dbt_schema TO ROLE dbt_role;\n\n\n",
   "execution_count": null,
   "outputs": []
  },
  {
   "cell_type": "code",
   "id": "257266e7-a1ae-44e1-960d-1f1a1a1c7a16",
   "metadata": {
    "language": "sql",
    "name": "cell2"
   },
   "outputs": [],
   "source": "-- clean up\nuse role accountadmin;\n\ndrop warehouse if exists dbt_wh;\ndrop database if exists dbt_db;\ndrop role if exists dbt_role;",
   "execution_count": null
  },
  {
   "cell_type": "code",
   "id": "2cabfa6f-2fab-415c-b5ce-b3d1fe5cbb86",
   "metadata": {
    "language": "sql",
    "name": "cell3",
    "collapsed": false,
    "resultHeight": 111
   },
   "outputs": [],
   "source": "--git integration \nCREATE INTEGRATION git_integration\n   TYPE = GIT\n   ENABLED = TRUE\n   GIT_PROVIDER = 'GITHUB'\n   GIT_REPO = '<your_git_repo>'\n   GIT_BRANCH = '<your_git_branch>'\n   GIT_ACCESS_TOKEN = '<your_access_token>';\n\n\n\nGRANT USAGE ON INTEGRATION git_integration TO ROLE dbt_role;\n\nGRANT OPERATE ON INTEGRATION git_integration TO ROLE dbt_role;",
   "execution_count": null
  }
 ]
}